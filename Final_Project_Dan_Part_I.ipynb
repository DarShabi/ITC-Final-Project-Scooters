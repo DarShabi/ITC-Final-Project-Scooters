{
  "nbformat": 4,
  "nbformat_minor": 0,
  "metadata": {
    "colab": {
      "provenance": []
    },
    "kernelspec": {
      "name": "python3",
      "display_name": "Python 3"
    },
    "language_info": {
      "name": "python"
    }
  },
  "cells": [
    {
      "cell_type": "code",
      "execution_count": 2,
      "metadata": {
        "id": "djpg7ioPiHMV",
        "colab": {
          "base_uri": "https://localhost:8080/"
        },
        "outputId": "7aa5d0e8-e7d2-4e95-a18c-4ab31c58d9e6"
      },
      "outputs": [
        {
          "output_type": "stream",
          "name": "stdout",
          "text": [
            "Mounted at /content/drive\n"
          ]
        }
      ],
      "source": [
        "from google.colab import drive\n",
        "drive.mount('/content/drive')"
      ]
    },
    {
      "cell_type": "code",
      "source": [
        "!ls /content/drive/MyDrive/LabeledScooters/LabeledScooters/Raw_videos"
      ],
      "metadata": {
        "colab": {
          "base_uri": "https://localhost:8080/"
        },
        "id": "5vCG2fWaoyGH",
        "outputId": "671a0769-7ef7-4e8c-cbd1-d26a6eae7ffa"
      },
      "execution_count": null,
      "outputs": [
        {
          "output_type": "stream",
          "name": "stdout",
          "text": [
            " 0_vid14.mp4\t\t\t     4_vid12.mp4\n",
            "'0_vid15 (check for blur etc).mp4'   4_vid17.mp4\n",
            " 0_vid16.mp4\t\t\t     4_vid2.mp4\n",
            " 0_vid18.mp4\t\t\t     4_vid3.mp4\n",
            " 0_vid19.mp4\t\t\t     4_vid8.mp4\n",
            " 0_vid21.mp4\t\t\t     5_vid10.mp4\n",
            "'0_vid4 (on border of 5).mp4'\t     5_vid13.mp4\n",
            " 0_vid5.mp4\t\t\t     5_vid1.mp4\n",
            " 0_vid7.mp4\t\t\t     5_vid20.mp4\n",
            "'0_vid9 (check for 3 in pics).mp4'   5_vid22.mp4\n",
            " 1_vid25.mp4\t\t\t     5_vid23.mp4\n",
            " 1_vid26.mp4\t\t\t     5_vid24.mp4\n",
            " 4_vid11.mp4\t\t\t     5_vid6.mp4\n"
          ]
        }
      ]
    },
    {
      "cell_type": "markdown",
      "source": [
        "rename videos"
      ],
      "metadata": {
        "id": "MaLGxUXrf38D"
      }
    },
    {
      "cell_type": "code",
      "source": [
        "import os\n",
        "\n",
        "def rename_files_with_numbers(directory, extension):\n",
        "    file_list = os.listdir(directory)\n",
        "    count = 1\n",
        "\n",
        "    for file_name in file_list:\n",
        "        if file_name.endswith(extension):\n",
        "            new_file_name = str(count).zfill(3) + extension\n",
        "            original_path = os.path.join(directory, file_name)\n",
        "            new_path = os.path.join(directory, new_file_name)\n",
        "            os.rename(original_path, new_path)\n",
        "            count += 1\n",
        "\n",
        "# Spécifiez le chemin d'accès au lecteur et l'extension des fichiers à renommer\n",
        "drive_path = \"/content/drive/MyDrive/LabeledScooters/LabeledScooters/VIDEOS\"\n",
        "file_extension = \".mp4\"\n",
        "\n",
        "rename_files_with_numbers(drive_path, file_extension)"
      ],
      "metadata": {
        "id": "Vcyue-vif6Fk"
      },
      "execution_count": null,
      "outputs": []
    },
    {
      "cell_type": "markdown",
      "source": [
        "Create frames from video"
      ],
      "metadata": {
        "id": "ZuaHS55X75uw"
      }
    },
    {
      "cell_type": "code",
      "source": [
        "import cv2\n",
        "import os\n",
        "\n",
        "video_path = '/content/drive/MyDrive/LabeledScooters/LabeledScooters/Raw_videos'\n",
        "\n",
        "output_folder = '/content/drive/MyDrive/LabeledScooters/LabeledScooters/Videos_To_Frames'\n",
        "\n",
        "os.makedirs(output_folder, exist_ok=True)\n",
        "\n",
        "existing_files = [file for file in os.listdir(output_folder) if file.endswith('.jpg') or file.endswith('.png') or file.endswith('.mp4')]\n",
        "existing_files.sort()\n",
        "\n",
        "if existing_files:\n",
        "    last_index = int(existing_files[-1].split('_')[1].split('.')[0])\n",
        "    image_count = last_index + 1\n",
        "else:\n",
        "    image_count = 0\n",
        "\n",
        "video = cv2.VideoCapture(video_path)\n",
        "\n",
        "frame_count = 0\n",
        "\n",
        "while True:\n",
        "    ret, frame = video.read()\n",
        "\n",
        "    if not ret:\n",
        "        break\n",
        "\n",
        "    frame_count += 1\n",
        "\n",
        "    if frame_count % 30 == 0:\n",
        "        image_path = os.path.join(output_folder, f'{}{image_count}.jpg')\n",
        "        cv2.imwrite(image_path, frame)\n",
        "\n",
        "        image_count += 1\n",
        "\n",
        "video.release()"
      ],
      "metadata": {
        "id": "ymDU1OG277fy",
        "colab": {
          "base_uri": "https://localhost:8080/",
          "height": 131
        },
        "outputId": "c2b92e08-95c8-4a86-bf43-37a22edbc340"
      },
      "execution_count": null,
      "outputs": [
        {
          "output_type": "error",
          "ename": "SyntaxError",
          "evalue": "ignored",
          "traceback": [
            "\u001b[0;36m  File \u001b[0;32m\"<ipython-input-21-fea7eba39834>\"\u001b[0;36m, line \u001b[0;32m32\u001b[0m\n\u001b[0;31m    image_path = os.path.join(output_folder, f'{}{image_count}.jpg')\u001b[0m\n\u001b[0m                                                                   ^\u001b[0m\n\u001b[0;31mSyntaxError\u001b[0m\u001b[0;31m:\u001b[0m f-string: empty expression not allowed\n"
          ]
        }
      ]
    },
    {
      "cell_type": "markdown",
      "source": [
        "Reshaping the images"
      ],
      "metadata": {
        "id": "nGMD80f07z8I"
      }
    },
    {
      "cell_type": "code",
      "source": [
        "import cv2\n",
        "from google.colab.patches import cv2_imshow\n",
        "\n",
        "img = cv2.imread('/content/drive/MyDrive/LabeledScooters/LabeledScooters/IMG_0259.MOV')\n",
        "img_resized = cv2.resize(img, (224, 224))\n",
        "\n",
        "print('Original Image Shape:', img.shape)\n",
        "print('Resized Image Shape:', img_resized.shape)\n",
        "\n",
        "cv2_imshow(img_resized)"
      ],
      "metadata": {
        "colab": {
          "base_uri": "https://localhost:8080/",
          "height": 235
        },
        "id": "iLUOTKD8pqKG",
        "outputId": "9a463153-cbf1-48d1-9486-83f1bf77adf2"
      },
      "execution_count": null,
      "outputs": [
        {
          "output_type": "error",
          "ename": "error",
          "evalue": "ignored",
          "traceback": [
            "\u001b[0;31m---------------------------------------------------------------------------\u001b[0m",
            "\u001b[0;31merror\u001b[0m                                     Traceback (most recent call last)",
            "\u001b[0;32m<ipython-input-5-f06029a2223e>\u001b[0m in \u001b[0;36m<cell line: 5>\u001b[0;34m()\u001b[0m\n\u001b[1;32m      3\u001b[0m \u001b[0;34m\u001b[0m\u001b[0m\n\u001b[1;32m      4\u001b[0m \u001b[0mimg\u001b[0m \u001b[0;34m=\u001b[0m \u001b[0mcv2\u001b[0m\u001b[0;34m.\u001b[0m\u001b[0mimread\u001b[0m\u001b[0;34m(\u001b[0m\u001b[0;34m'/content/drive/MyDrive/LabeledScooters/LabeledScooters/IMG_0259.MOV'\u001b[0m\u001b[0;34m)\u001b[0m\u001b[0;34m\u001b[0m\u001b[0;34m\u001b[0m\u001b[0m\n\u001b[0;32m----> 5\u001b[0;31m \u001b[0mimg_resized\u001b[0m \u001b[0;34m=\u001b[0m \u001b[0mcv2\u001b[0m\u001b[0;34m.\u001b[0m\u001b[0mresize\u001b[0m\u001b[0;34m(\u001b[0m\u001b[0mimg\u001b[0m\u001b[0;34m,\u001b[0m \u001b[0;34m(\u001b[0m\u001b[0;36m224\u001b[0m\u001b[0;34m,\u001b[0m \u001b[0;36m224\u001b[0m\u001b[0;34m)\u001b[0m\u001b[0;34m)\u001b[0m\u001b[0;34m\u001b[0m\u001b[0;34m\u001b[0m\u001b[0m\n\u001b[0m\u001b[1;32m      6\u001b[0m \u001b[0;34m\u001b[0m\u001b[0m\n\u001b[1;32m      7\u001b[0m \u001b[0mprint\u001b[0m\u001b[0;34m(\u001b[0m\u001b[0;34m'Original Image Shape:'\u001b[0m\u001b[0;34m,\u001b[0m \u001b[0mimg\u001b[0m\u001b[0;34m.\u001b[0m\u001b[0mshape\u001b[0m\u001b[0;34m)\u001b[0m\u001b[0;34m\u001b[0m\u001b[0;34m\u001b[0m\u001b[0m\n",
            "\u001b[0;31merror\u001b[0m: OpenCV(4.7.0) /io/opencv/modules/imgproc/src/resize.cpp:4062: error: (-215:Assertion failed) !ssize.empty() in function 'resize'\n"
          ]
        }
      ]
    },
    {
      "cell_type": "code",
      "source": [
        "import cv2\n",
        "import os\n",
        "import glob\n",
        "\n",
        "video_folder = '/content/drive/MyDrive/LabeledScooters/LabeledScooters/Raw_videos'\n",
        "output_folder = '/content/drive/MyDrive/LabeledScooters/LabeledScooters/Videos_To_Frames'\n",
        "\n",
        "os.makedirs(output_folder, exist_ok=True)\n",
        "\n",
        "video_files = glob.glob(os.path.join(video_folder, '*.mp4')) + glob.glob(os.path.join(video_folder, '*.mov'))\n",
        "\n",
        "for video_file in video_files:\n",
        "    video_basename = os.path.basename(video_file)\n",
        "    video_name = os.path.splitext(video_basename)[0]  # remove the extension\n",
        "\n",
        "    video = cv2.VideoCapture(video_file)\n",
        "\n",
        "    frame_count = 0\n",
        "\n",
        "    while True:\n",
        "        ret, frame = video.read()\n",
        "\n",
        "        if not ret:\n",
        "            break\n",
        "\n",
        "        frame_count += 1\n",
        "\n",
        "        if frame_count % 20 == 0:\n",
        "            image_path = os.path.join(output_folder, f'{video_name}_{frame_count}.jpg')\n",
        "            cv2.imwrite(image_path, frame)\n",
        "\n",
        "    video.release()\n"
      ],
      "metadata": {
        "id": "biHPfh7ZsWMq"
      },
      "execution_count": null,
      "outputs": []
    },
    {
      "cell_type": "code",
      "source": [
        "folder_path = '/content/drive/MyDrive/LabeledScooters/LabeledScooters/Videos_To_Frames'\n",
        "num_items = len(os.listdir(folder_path))\n",
        "\n",
        "print(f\"{num_items} pictures \")"
      ],
      "metadata": {
        "id": "DbObB3cRoPzi",
        "colab": {
          "base_uri": "https://localhost:8080/"
        },
        "outputId": "4918c2f2-5351-4771-c3de-0845df94892d"
      },
      "execution_count": null,
      "outputs": [
        {
          "output_type": "stream",
          "name": "stdout",
          "text": [
            "718 pictures \n"
          ]
        }
      ]
    },
    {
      "cell_type": "code",
      "source": [],
      "metadata": {
        "id": "cB1TOjhvdCXS"
      },
      "execution_count": null,
      "outputs": []
    }
  ]
}