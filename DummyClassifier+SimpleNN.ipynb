{
  "cells": [
    {
      "cell_type": "markdown",
      "id": "822df37c",
      "metadata": {
        "id": "822df37c"
      },
      "source": [
        "# Start"
      ]
    },
    {
      "cell_type": "code",
      "source": [
        "pip install tabulate\n"
      ],
      "metadata": {
        "colab": {
          "base_uri": "https://localhost:8080/"
        },
        "id": "IbQ8VSSp30Vn",
        "outputId": "b3add515-dd11-4ad8-c7f8-f55a8a79f834"
      },
      "id": "IbQ8VSSp30Vn",
      "execution_count": 1,
      "outputs": [
        {
          "output_type": "stream",
          "name": "stdout",
          "text": [
            "Looking in indexes: https://pypi.org/simple, https://us-python.pkg.dev/colab-wheels/public/simple/\n",
            "Requirement already satisfied: tabulate in /usr/local/lib/python3.10/dist-packages (0.8.10)\n"
          ]
        }
      ]
    },
    {
      "cell_type": "code",
      "source": [
        "!pip install scikeras\n"
      ],
      "metadata": {
        "colab": {
          "base_uri": "https://localhost:8080/"
        },
        "id": "8mSWBnBPbiP6",
        "outputId": "d8139aed-157d-42dd-893a-43e57bfb4d95"
      },
      "id": "8mSWBnBPbiP6",
      "execution_count": 2,
      "outputs": [
        {
          "output_type": "stream",
          "name": "stdout",
          "text": [
            "Looking in indexes: https://pypi.org/simple, https://us-python.pkg.dev/colab-wheels/public/simple/\n",
            "Requirement already satisfied: scikeras in /usr/local/lib/python3.10/dist-packages (0.11.0)\n",
            "Requirement already satisfied: packaging>=0.21 in /usr/local/lib/python3.10/dist-packages (from scikeras) (23.1)\n",
            "Requirement already satisfied: scikit-learn>=1.0.0 in /usr/local/lib/python3.10/dist-packages (from scikeras) (1.2.2)\n",
            "Requirement already satisfied: numpy>=1.17.3 in /usr/local/lib/python3.10/dist-packages (from scikit-learn>=1.0.0->scikeras) (1.22.4)\n",
            "Requirement already satisfied: scipy>=1.3.2 in /usr/local/lib/python3.10/dist-packages (from scikit-learn>=1.0.0->scikeras) (1.10.1)\n",
            "Requirement already satisfied: joblib>=1.1.1 in /usr/local/lib/python3.10/dist-packages (from scikit-learn>=1.0.0->scikeras) (1.2.0)\n",
            "Requirement already satisfied: threadpoolctl>=2.0.0 in /usr/local/lib/python3.10/dist-packages (from scikit-learn>=1.0.0->scikeras) (3.1.0)\n"
          ]
        }
      ]
    },
    {
      "cell_type": "code",
      "execution_count": 3,
      "id": "67536792",
      "metadata": {
        "id": "67536792"
      },
      "outputs": [],
      "source": [
        "# imports\n",
        "from tabulate import tabulate\n",
        "from sklearn.dummy import DummyClassifier\n",
        "from sklearn.pipeline import Pipeline\n",
        "import tensorflow as tf\n",
        "from scikeras.wrappers import KerasClassifier\n",
        "from sklearn.metrics import accuracy_score, precision_score, recall_score, f1_score, classification_report\n",
        "import pandas as pd\n",
        "from sklearn.base import BaseEstimator, TransformerMixin\n",
        "import numpy as np\n",
        "from sklearn.model_selection import train_test_split\n",
        "from tensorflow.keras.datasets import mnist\n",
        "import matplotlib.pyplot as plt\n",
        "from tensorflow.keras import Sequential\n",
        "from tensorflow.keras.layers import Flatten, Dense\n",
        "import pickle\n",
        "from tensorflow.keras.callbacks import EarlyStopping\n",
        "from tensorflow.keras.layers import Conv2D, MaxPooling2D, Dropout\n"
      ]
    },
    {
      "cell_type": "markdown",
      "source": [
        "## Loading the data\n"
      ],
      "metadata": {
        "id": "Glbf5eRmoyPl"
      },
      "id": "Glbf5eRmoyPl"
    },
    {
      "cell_type": "code",
      "source": [
        "from google.colab import drive\n",
        "drive.mount('/content/drive')\n",
        "\n",
        "file_path = '/content/drive/MyDrive/.pkl_data/final_train_data.pkl'\n",
        "\n",
        "df_train = pd.read_pickle(file_path)\n",
        "train_df = pd.DataFrame(df_train)"
      ],
      "metadata": {
        "colab": {
          "base_uri": "https://localhost:8080/"
        },
        "id": "8OG-EdzN_gS5",
        "outputId": "2e45202d-60d0-4bf7-b601-5a078d3a39bf"
      },
      "id": "8OG-EdzN_gS5",
      "execution_count": 4,
      "outputs": [
        {
          "output_type": "stream",
          "name": "stdout",
          "text": [
            "Drive already mounted at /content/drive; to attempt to forcibly remount, call drive.mount(\"/content/drive\", force_remount=True).\n"
          ]
        }
      ]
    },
    {
      "cell_type": "code",
      "source": [
        "file_path = '/content/drive/MyDrive/.pkl_data/final_test_data.pkl'\n",
        "\n",
        "df_test = pd.read_pickle(file_path)\n",
        "test_df = pd.DataFrame(df_test)"
      ],
      "metadata": {
        "id": "DnF-qwMwBxty"
      },
      "id": "DnF-qwMwBxty",
      "execution_count": 5,
      "outputs": []
    },
    {
      "cell_type": "code",
      "execution_count": 6,
      "id": "bdf6f85b",
      "metadata": {
        "id": "bdf6f85b"
      },
      "outputs": [],
      "source": [
        "WIDTH = 200\n",
        "HEIGHT = 250\n",
        "\n",
        "X_train = train_df.drop('label', axis=1).values\n",
        "y_train = train_df['label'].values\n",
        "\n",
        "X_test = test_df.drop('label', axis=1).values\n",
        "y_test = test_df['label'].values\n",
        "\n"
      ]
    },
    {
      "cell_type": "code",
      "source": [
        "batch_size = 1000\n",
        "\n",
        "# Scale the images in batches for X_train\n",
        "for i in range(0, len(X_train), batch_size):\n",
        "    X_train[i:i+batch_size] = X_train[i:i+batch_size] / 255.0\n",
        "\n",
        "# Scale the images in batches for X_test\n",
        "for i in range(0, len(X_test), batch_size):\n",
        "    X_test[i:i+batch_size] = X_test[i:i+batch_size] / 255.0\n"
      ],
      "metadata": {
        "id": "iG4i6ptWsVft"
      },
      "id": "iG4i6ptWsVft",
      "execution_count": 7,
      "outputs": []
    },
    {
      "cell_type": "code",
      "source": [
        "X_train = X_train.reshape((-1, HEIGHT, WIDTH, 3))  # 3 channels for RGB\n",
        "X_test = X_test.reshape((-1, HEIGHT, WIDTH, 3))  # 3 channels for RGB\n",
        "\n",
        "X_train, X_val, y_train, y_val = train_test_split(X_train, y_train, test_size=0.1, random_state=23)\n",
        "\n",
        "NUM_CLASSES = len(set(y_train))\n",
        "NUM_NEURONS = 1000"
      ],
      "metadata": {
        "id": "P8QNgVZvQFUj"
      },
      "id": "P8QNgVZvQFUj",
      "execution_count": 8,
      "outputs": []
    },
    {
      "cell_type": "markdown",
      "id": "76bf33e2",
      "metadata": {
        "id": "76bf33e2"
      },
      "source": [
        "# Mapping"
      ]
    },
    {
      "cell_type": "code",
      "execution_count": 9,
      "id": "26a2946b",
      "metadata": {
        "id": "26a2946b"
      },
      "outputs": [],
      "source": [
        "class LabelMapper(BaseEstimator, TransformerMixin):\n",
        "    def __init__(self, pandas_series=True):\n",
        "        self.pandas_series = pandas_series\n",
        "\n",
        "    def fit(self, X, y=None):\n",
        "        return self\n",
        "\n",
        "    def transform(self, X, y=None):\n",
        "        if self.pandas_series:\n",
        "            return X.map(self.map_labels)\n",
        "        else:\n",
        "            return np.array([self.map_labels(x) for x in X])\n",
        "\n",
        "    @staticmethod\n",
        "    def map_labels(original_label):\n",
        "        if original_label in [0, 4, 5, 6]:\n",
        "            return 0  # scooter\n",
        "        elif original_label == 1:\n",
        "            return 1  # not a scooter\n",
        "        elif original_label in [2, 3]:\n",
        "            return 2  # picture not clear\n",
        "        else:\n",
        "            return None  # handle cases outside your defined labels, if any\n"
      ]
    },
    {
      "cell_type": "code",
      "source": [
        "##mapping_pipeline = Pipeline([\n",
        "##    ('mapper', LabelMapper(pandas_series=False)),  # If labels are not pandas Series, set pandas_series=False\n",
        "##])\n",
        "\n",
        "\n",
        "#####Transform the labels for each set\n",
        "\n",
        "y_train_mapped = y_train\n",
        "y_val_mapped = y_val\n",
        "y_test_mapped = y_test"
      ],
      "metadata": {
        "id": "VoGSnhE6Z-ln"
      },
      "id": "VoGSnhE6Z-ln",
      "execution_count": 10,
      "outputs": []
    },
    {
      "cell_type": "markdown",
      "id": "af7df17e",
      "metadata": {
        "id": "af7df17e"
      },
      "source": [
        "# Modeling"
      ]
    },
    {
      "cell_type": "markdown",
      "id": "1ee4f93c",
      "metadata": {
        "id": "1ee4f93c"
      },
      "source": [
        "## Dummy Classifier"
      ]
    },
    {
      "cell_type": "code",
      "execution_count": 11,
      "id": "1e60cded",
      "metadata": {
        "colab": {
          "base_uri": "https://localhost:8080/"
        },
        "id": "1e60cded",
        "outputId": "6c6a57a9-f829-42af-9e42-b32e4f79e2a8"
      },
      "outputs": [
        {
          "output_type": "stream",
          "name": "stdout",
          "text": [
            "Dummy Classifier Metrics:\n",
            "Accuracy: 0.35071090047393366\n",
            "Precision: 0.12299813571123738\n",
            "Recall: 0.35071090047393366\n",
            "F1-Score: 0.18212355533383218\n"
          ]
        },
        {
          "output_type": "stream",
          "name": "stderr",
          "text": [
            "/usr/local/lib/python3.10/dist-packages/sklearn/metrics/_classification.py:1344: UndefinedMetricWarning: Precision is ill-defined and being set to 0.0 in labels with no predicted samples. Use `zero_division` parameter to control this behavior.\n",
            "  _warn_prf(average, modifier, msg_start, len(result))\n"
          ]
        }
      ],
      "source": [
        "# Create a pipeline\n",
        "dummy_pipeline = Pipeline([\n",
        "    ('classifier', DummyClassifier(strategy='most_frequent')),  # Always predict the most frequent class\n",
        "])\n",
        "\n",
        "# Train the dummy classifier\n",
        "dummy_pipeline.fit(X_train, y_train_mapped)\n",
        "\n",
        "# Evaluate the dummy classifier\n",
        "y_val_pred_dummy = dummy_pipeline.predict(X_val)\n",
        "accuracy_dummy = accuracy_score(y_val_mapped, y_val_pred_dummy)\n",
        "precision_dummy = precision_score(y_val_mapped, y_val_pred_dummy, average='weighted')\n",
        "recall_dummy = recall_score(y_val_mapped, y_val_pred_dummy, average='weighted')\n",
        "f1_dummy = f1_score(y_val_mapped, y_val_pred_dummy, average='weighted')\n",
        "\n",
        "print(\"Dummy Classifier Metrics:\")\n",
        "print(f\"Accuracy: {accuracy_dummy}\")\n",
        "print(f\"Precision: {precision_dummy}\")\n",
        "print(f\"Recall: {recall_dummy}\")\n",
        "print(f\"F1-Score: {f1_dummy}\")"
      ]
    },
    {
      "cell_type": "code",
      "source": [
        "# Checking for missing values in train, validation, and test sets\n",
        "datasets = {'train': (X_train, y_train), 'validation': (X_val, y_val), 'test': (X_test, y_test)}\n",
        "for name, (X, y) in datasets.items():\n",
        "    print(f'Checking missing values in {name} set:')\n",
        "    print(f'Features: Contains NaN values - {np.isnan(X).any()}')\n",
        "    print(f'Labels: Contains NaN values - {np.isnan(y).any()}\\n')\n"
      ],
      "metadata": {
        "colab": {
          "base_uri": "https://localhost:8080/"
        },
        "id": "wq0uZqlshyuI",
        "outputId": "841629d2-94b7-47e8-b036-1078a6a4b99f"
      },
      "id": "wq0uZqlshyuI",
      "execution_count": 12,
      "outputs": [
        {
          "output_type": "stream",
          "name": "stdout",
          "text": [
            "Checking missing values in train set:\n",
            "Features: Contains NaN values - False\n",
            "Labels: Contains NaN values - False\n",
            "\n",
            "Checking missing values in validation set:\n",
            "Features: Contains NaN values - False\n",
            "Labels: Contains NaN values - False\n",
            "\n",
            "Checking missing values in test set:\n",
            "Features: Contains NaN values - False\n",
            "Labels: Contains NaN values - False\n",
            "\n"
          ]
        }
      ]
    },
    {
      "cell_type": "markdown",
      "id": "c116364a",
      "metadata": {
        "id": "c116364a"
      },
      "source": [
        "## simple NN"
      ]
    },
    {
      "cell_type": "code",
      "execution_count": 13,
      "id": "90b30893",
      "metadata": {
        "id": "90b30893"
      },
      "outputs": [],
      "source": [
        "class SimpleNN(tf.keras.Model):\n",
        "    def __init__(self, num_classes):\n",
        "        super(SimpleNN, self).__init__()\n",
        "        self.flatten = tf.keras.layers.Flatten()\n",
        "        self.d1 = tf.keras.layers.Dense(NUM_NEURONS, activation='relu')\n",
        "        self.d2 = tf.keras.layers.Dense(num_classes, activation='softmax')\n",
        "        self.compile(optimizer='adam',\n",
        "                     loss='sparse_categorical_crossentropy',\n",
        "                     metrics=['accuracy'])\n",
        "\n",
        "    def call(self, x):\n",
        "        x = self.flatten(x)\n",
        "        x = self.d1(x)\n",
        "        return self.d2(x)\n",
        "\n"
      ]
    },
    {
      "cell_type": "code",
      "source": [
        "def create_simple_nn():\n",
        "    model = Sequential([\n",
        "        Flatten(input_shape=(HEIGHT, WIDTH, 3)),\n",
        "        Dense(NUM_NEURONS, activation='relu'),\n",
        "        Dense(NUM_CLASSES, activation='softmax')\n",
        "    ])\n",
        "\n",
        "    model.compile(optimizer='adam',\n",
        "                  loss='sparse_categorical_crossentropy',\n",
        "                  metrics=['accuracy'])\n",
        "\n",
        "    early_stopping = EarlyStopping(monitor='val_accuracy', patience=3, restore_best_weights=True)\n",
        "\n",
        "    return model, early_stopping"
      ],
      "metadata": {
        "id": "6xxiwLU5FzuE"
      },
      "id": "6xxiwLU5FzuE",
      "execution_count": 14,
      "outputs": []
    },
    {
      "cell_type": "code",
      "execution_count": 15,
      "id": "7fc0377c",
      "metadata": {
        "colab": {
          "base_uri": "https://localhost:8080/"
        },
        "id": "7fc0377c",
        "outputId": "187721d5-d087-4846-df6a-58b48964d4c7"
      },
      "outputs": [
        {
          "output_type": "stream",
          "name": "stdout",
          "text": [
            "Epoch 1/10\n",
            "2373/2373 [==============================] - 81s 32ms/step - loss: nan - accuracy: 0.2853 - val_loss: nan - val_accuracy: 0.2768\n",
            "Epoch 2/10\n",
            "2373/2373 [==============================] - 72s 30ms/step - loss: nan - accuracy: 0.2853 - val_loss: nan - val_accuracy: 0.2768\n",
            "Epoch 3/10\n",
            "2373/2373 [==============================] - 71s 30ms/step - loss: nan - accuracy: 0.2853 - val_loss: nan - val_accuracy: 0.2768\n",
            "Epoch 4/10\n",
            "2373/2373 [==============================] - 75s 31ms/step - loss: nan - accuracy: 0.2853 - val_loss: nan - val_accuracy: 0.2768\n"
          ]
        }
      ],
      "source": [
        "# Create the simple convolutional neural network model\n",
        "model, early_stopping = create_simple_nn()\n",
        "\n",
        "# Train the model\n",
        "history = model.fit(X_train, y_train_mapped, batch_size=4, epochs=10, validation_data=(X_val, y_val_mapped), callbacks=[early_stopping])\n"
      ]
    },
    {
      "cell_type": "code",
      "source": [
        "# Evaluate the model\n",
        "y_val_pred_probs = model.predict(X_val)\n",
        "y_val_pred_nn = np.argmax(y_val_pred_probs, axis=1)\n",
        "accuracy = accuracy_score(y_val_mapped, y_val_pred_nn)\n",
        "precision = precision_score(y_val_mapped, y_val_pred_nn, average='weighted')\n",
        "recall = recall_score(y_val_mapped, y_val_pred_nn, average='weighted')\n",
        "f1 = f1_score(y_val_mapped, y_val_pred_nn, average='weighted')\n",
        "classification = classification_report(y_val_mapped, y_val_pred_nn)\n",
        "\n",
        "print(\"\\nSimple NN Val Metrics:\")\n",
        "print(f\"Accuracy: {accuracy}\")\n",
        "print(f\"Precision: {precision}\")\n",
        "print(f\"Recall: {recall}\")\n",
        "print(f\"F1-Score: {f1}\")\n",
        "print(classification)\n",
        "\n",
        "# Plot the training and validation accuracy\n",
        "plt.plot(history.history['accuracy'])\n",
        "plt.plot(history.history['val_accuracy'])\n",
        "plt.title('Model Accuracy')\n",
        "plt.xlabel('Epoch')\n",
        "plt.ylabel('Accuracy')\n",
        "plt.legend(['Train', 'Validation'], loc='upper left')\n",
        "plt.show()"
      ],
      "metadata": {
        "colab": {
          "base_uri": "https://localhost:8080/",
          "height": 951
        },
        "id": "JcBuEqwQgt2n",
        "outputId": "abb31d33-c9f3-47d2-9544-06ad3de05060"
      },
      "id": "JcBuEqwQgt2n",
      "execution_count": 20,
      "outputs": [
        {
          "output_type": "stream",
          "name": "stdout",
          "text": [
            "33/33 [==============================] - 0s 9ms/step\n",
            "\n",
            "Simple NN Val Metrics:\n",
            "Accuracy: 0.27677725118483415\n",
            "Precision: 0.07660564677343276\n",
            "Recall: 0.27677725118483415\n",
            "F1-Score: 0.11999845188711444\n",
            "              precision    recall  f1-score   support\n",
            "\n",
            "           0       0.28      1.00      0.43       292\n",
            "           1       0.00      0.00      0.00       370\n",
            "           2       0.00      0.00      0.00         1\n",
            "           4       0.00      0.00      0.00       164\n",
            "           5       0.00      0.00      0.00       228\n",
            "\n",
            "    accuracy                           0.28      1055\n",
            "   macro avg       0.06      0.20      0.09      1055\n",
            "weighted avg       0.08      0.28      0.12      1055\n",
            "\n"
          ]
        },
        {
          "output_type": "stream",
          "name": "stderr",
          "text": [
            "/usr/local/lib/python3.10/dist-packages/sklearn/metrics/_classification.py:1344: UndefinedMetricWarning: Precision is ill-defined and being set to 0.0 in labels with no predicted samples. Use `zero_division` parameter to control this behavior.\n",
            "  _warn_prf(average, modifier, msg_start, len(result))\n",
            "/usr/local/lib/python3.10/dist-packages/sklearn/metrics/_classification.py:1344: UndefinedMetricWarning: Precision and F-score are ill-defined and being set to 0.0 in labels with no predicted samples. Use `zero_division` parameter to control this behavior.\n",
            "  _warn_prf(average, modifier, msg_start, len(result))\n",
            "/usr/local/lib/python3.10/dist-packages/sklearn/metrics/_classification.py:1344: UndefinedMetricWarning: Precision and F-score are ill-defined and being set to 0.0 in labels with no predicted samples. Use `zero_division` parameter to control this behavior.\n",
            "  _warn_prf(average, modifier, msg_start, len(result))\n",
            "/usr/local/lib/python3.10/dist-packages/sklearn/metrics/_classification.py:1344: UndefinedMetricWarning: Precision and F-score are ill-defined and being set to 0.0 in labels with no predicted samples. Use `zero_division` parameter to control this behavior.\n",
            "  _warn_prf(average, modifier, msg_start, len(result))\n"
          ]
        },
        {
          "output_type": "display_data",
          "data": {
            "text/plain": [
              "<Figure size 640x480 with 1 Axes>"
            ],
            "image/png": "[encoded data removed]"
          },
          "metadata": {}
        }
      ]
    },
    {
      "cell_type": "code",
      "source": [
        "# Test set predictions\n",
        "y_test_pred_probs = model.predict(X_test)\n",
        "y_test_pred_nn = np.argmax(y_test_pred_probs, axis=1)\n",
        "\n",
        "# Evaluate the model on the test set\n",
        "test_accuracy = accuracy_score(y_test, y_test_pred_nn)\n",
        "test_precision = precision_score(y_test, y_test_pred_nn, average='weighted')\n",
        "test_recall = recall_score(y_test, y_test_pred_nn, average='weighted')\n",
        "test_f1 = f1_score(y_test, y_test_pred_nn, average='weighted')"
      ],
      "metadata": {
        "colab": {
          "base_uri": "https://localhost:8080/"
        },
        "id": "0FOBGe1g8UPH",
        "outputId": "6627718f-1bec-443f-f383-09884ea89ba5"
      },
      "id": "0FOBGe1g8UPH",
      "execution_count": 17,
      "outputs": [
        {
          "output_type": "stream",
          "name": "stdout",
          "text": [
            "142/142 [==============================] - 1s 6ms/step\n"
          ]
        },
        {
          "output_type": "stream",
          "name": "stderr",
          "text": [
            "/usr/local/lib/python3.10/dist-packages/sklearn/metrics/_classification.py:1344: UndefinedMetricWarning: Precision is ill-defined and being set to 0.0 in labels with no predicted samples. Use `zero_division` parameter to control this behavior.\n",
            "  _warn_prf(average, modifier, msg_start, len(result))\n"
          ]
        }
      ]
    },
    {
      "cell_type": "code",
      "source": [
        "models = ['Dummy Classifier', 'Simple Neural Network']\n",
        "metrics = ['Accuracy', 'Precision', 'Recall', 'F1-Score']\n",
        "\n",
        "dummy_results = [accuracy_dummy, precision_dummy, recall_dummy, f1_dummy]\n",
        "nn_results_test = [test_accuracy, test_precision, test_recall, test_f1]\n",
        "\n",
        "results = [\n",
        "    ['Dummy Classifier'] + dummy_results,\n",
        "    ['Simple Neural Network'] + nn_results_test\n",
        "]\n",
        "\n",
        "headers = ['Models'] + metrics\n",
        "best_metrics = [max(dummy_results[i], nn_results_test[i]) for i in range(len(dummy_results))]\n",
        "\n",
        "\n",
        "\n",
        "for row in results:\n",
        "    for i, value in enumerate(row[1:], start=1):  # Exclude the model name and start from index 1\n",
        "        if value == best_metrics[i-1]:  # Use i-1 as the index for best_metrics\n",
        "            row[i] = f\"\\033[1m{value:.4f}\\033[0m\"  # Use ANSI escape sequences for bold text\n",
        "        else:\n",
        "            row[i] = f\"{value:.4f}\"\n",
        "\n",
        "# Print the table\n",
        "print(tabulate(results, headers=headers, tablefmt='github'))\n"
      ],
      "metadata": {
        "colab": {
          "base_uri": "https://localhost:8080/"
        },
        "id": "mElbQNIU4FQO",
        "outputId": "6d466014-0f96-466c-9521-4b9c2bed7926"
      },
      "id": "mElbQNIU4FQO",
      "execution_count": 18,
      "outputs": [
        {
          "output_type": "stream",
          "name": "stdout",
          "text": [
            "| Models                |   Accuracy |   Precision |   Recall |   F1-Score |\n",
            "|-----------------------|------------|-------------|----------|------------|\n",
            "| Dummy Classifier      |     \u001b[1m0.3507\u001b[0m |      \u001b[1m0.123\u001b[0m  |   \u001b[1m0.3507\u001b[0m |     \u001b[1m0.1821\u001b[0m |\n",
            "| Simple Neural Network |     0.2746 |      0.0754 |   0.2746 |     0.1183 |\n"
          ]
        }
      ]
    }
  ],
  "metadata": {
    "kernelspec": {
      "display_name": "Python 3",
      "name": "python3"
    },
    "language_info": {
      "codemirror_mode": {
        "name": "ipython",
        "version": 3
      },
      "file_extension": ".py",
      "mimetype": "text/x-python",
      "name": "python",
      "nbconvert_exporter": "python",
      "pygments_lexer": "ipython3",
      "version": "3.9.12"
    },
    "toc": {
      "base_numbering": 1,
      "nav_menu": {},
      "number_sections": true,
      "sideBar": true,
      "skip_h1_title": false,
      "title_cell": "Table of Contents",
      "title_sidebar": "Contents",
      "toc_cell": false,
      "toc_position": {},
      "toc_section_display": true,
      "toc_window_display": false
    },
    "varInspector": {
      "cols": {
        "lenName": 16,
        "lenType": 16,
        "lenVar": 40
      },
      "kernels_config": {
        "python": {
          "delete_cmd_postfix": "",
          "delete_cmd_prefix": "del ",
          "library": "var_list.py",
          "varRefreshCmd": "print(var_dic_list())"
        },
        "r": {
          "delete_cmd_postfix": ") ",
          "delete_cmd_prefix": "rm(",
          "library": "var_list.r",
          "varRefreshCmd": "cat(var_dic_list()) "
        }
      },
      "types_to_exclude": [
        "module",
        "function",
        "builtin_function_or_method",
        "instance",
        "_Feature"
      ],
      "window_display": false
    },
    "colab": {
      "provenance": [],
      "gpuType": "T4"
    },
    "accelerator": "GPU"
  },
  "nbformat": 4,
  "nbformat_minor": 5
}
