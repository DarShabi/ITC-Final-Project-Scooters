{
  "nbformat": 4,
  "nbformat_minor": 0,
  "metadata": {
    "colab": {
      "provenance": [],
      "gpuType": "T4",
      "authorship_tag": "ABX9TyML55jnYzCwDh/pp7i/oTyt",
      "include_colab_link": true
    },
    "kernelspec": {
      "name": "python3",
      "display_name": "Python 3"
    },
    "language_info": {
      "name": "python"
    },
    "accelerator": "GPU"
  },
  "cells": [
    {
      "cell_type": "markdown",
      "metadata": {
        "id": "view-in-github",
        "colab_type": "text"
      },
      "source": [
        "<a href=\"https://colab.research.google.com/github/DarShabi/ITC-Final-Project-Scooters/blob/main/MS3_Fine_tunning_the_Model.ipynb\" target=\"_parent\"><img src=\"https://colab.research.google.com/assets/colab-badge.svg\" alt=\"Open In Colab\"/></a>"
      ]
    },
    {
      "cell_type": "code",
      "source": [
        "# imports\n",
        "import os\n",
        "import shutil\n",
        "import cv2\n",
        "import numpy as np\n",
        "import seaborn as sns\n",
        "import matplotlib.pyplot as plt\n",
        "import pandas as pd\n",
        "import random\n",
        "import glob\n",
        "from sklearn.model_selection import train_test_split\n",
        "from sklearn.metrics import confusion_matrix, classification_report\n",
        "import tensorflow as tf\n",
        "from keras.layers import Dropout\n",
        "from keras.preprocessing.image import ImageDataGenerator\n",
        "from sklearn.model_selection import train_test_split\n",
        "from tensorflow.keras.utils import load_img, img_to_array\n",
        "from keras.regularizers import l2\n",
        "from keras.regularizers import l1_l2\n",
        "from keras.applications.vgg16 import VGG16, preprocess_input\n",
        "\n",
        "from keras.layers import Dense, Flatten\n",
        "from keras.models import Model\n",
        "from keras.utils import to_categorical\n",
        "from keras.models import Sequential\n",
        "from keras.layers import Conv2D, MaxPooling2D\n",
        "from keras.callbacks import EarlyStopping, ModelCheckpoint"
      ],
      "metadata": {
        "id": "dHiuoUKcjCgm"
      },
      "execution_count": 1,
      "outputs": []
    },
    {
      "cell_type": "code",
      "execution_count": 2,
      "metadata": {
        "colab": {
          "base_uri": "https://localhost:8080/"
        },
        "id": "GkRLLVplhTHn",
        "outputId": "58acb02e-a852-4973-9dc2-7ae34559fdb2"
      },
      "outputs": [
        {
          "output_type": "stream",
          "name": "stdout",
          "text": [
            "Drive already mounted at /content/drive; to attempt to forcibly remount, call drive.mount(\"/content/drive\", force_remount=True).\n"
          ]
        }
      ],
      "source": [
        "from google.colab import drive\n",
        "drive.mount('/content/drive')\n"
      ]
    },
    {
      "cell_type": "markdown",
      "source": [
        "hi"
      ],
      "metadata": {
        "id": "nRV4sPX230ei"
      }
    },
    {
      "cell_type": "code",
      "source": [
        "# Correct dimensions\n",
        "IMG_WIDTH = 150\n",
        "IMG_HEIGHT = 300\n"
      ],
      "metadata": {
        "id": "Tj7BkHU5nMI0"
      },
      "execution_count": 3,
      "outputs": []
    },
    {
      "cell_type": "code",
      "source": [
        "folder_path = '/content/drive/MyDrive/final_proj'\n",
        "\n",
        "images = glob.glob(folder_path + '/*.jpg')\n",
        "\n",
        "# Generate labels from the first character of the image file names\n",
        "labels = [os.path.basename(img)[0] for img in images]\n"
      ],
      "metadata": {
        "id": "93wyScLe6FhO"
      },
      "execution_count": 4,
      "outputs": []
    },
    {
      "cell_type": "code",
      "source": [
        "def print_folder_info(folder_path):\n",
        "    # Get list of all files\n",
        "    all_files = os.listdir(folder_path)\n",
        "    # Get classes from filenames\n",
        "    classes = [file.split('_')[0] for file in all_files]  # Adjust this line if your filenames are structured differently\n",
        "\n",
        "    # Count classes\n",
        "    class_counts = {class_: classes.count(class_) for class_ in set(classes)}\n",
        "\n",
        "    print(f\"Total number of files in {folder_path}: {len(all_files)}\")\n",
        "    for class_, count in class_counts.items():\n",
        "        print(f\"Class {class_}: {count} ({(count / len(all_files)) * 100:.2f}%)\")\n",
        "\n",
        "folders = ['train', 'val', 'test']\n",
        "for folder in folders:\n",
        "    print_folder_info(os.path.join(folder_path, folder))\n"
      ],
      "metadata": {
        "colab": {
          "base_uri": "https://localhost:8080/"
        },
        "id": "5KE5SI2wDY8k",
        "outputId": "53d32cd4-0d57-4e3b-b334-dab91ee573b1"
      },
      "execution_count": 5,
      "outputs": [
        {
          "output_type": "stream",
          "name": "stdout",
          "text": [
            "Total number of files in /content/drive/MyDrive/final_proj/train: 1686\n",
            "Class 2: 244 (14.47%)\n",
            "Class 0: 530 (31.44%)\n",
            "Class 1: 544 (32.27%)\n",
            "Class 3: 368 (21.83%)\n",
            "Total number of files in /content/drive/MyDrive/final_proj/val: 361\n",
            "Class 3: 70 (19.39%)\n",
            "Class 2: 48 (13.30%)\n",
            "Class 0: 108 (29.92%)\n",
            "Class 1: 135 (37.40%)\n",
            "Total number of files in /content/drive/MyDrive/final_proj/test: 362\n",
            "Class 3: 86 (23.76%)\n",
            "Class 2: 43 (11.88%)\n",
            "Class 0: 104 (28.73%)\n",
            "Class 1: 129 (35.64%)\n"
          ]
        }
      ]
    },
    {
      "cell_type": "code",
      "source": [
        "def apply_edge_detection(img, ksize=3, threshold=100):\n",
        "    # Apply the Sobel filter for vertical and horizontal edge detection on each channel\n",
        "    sobel_vertical = [cv2.Sobel(img[:,:,i], cv2.CV_64F, 1, 0, ksize=ksize) for i in range(3)]\n",
        "    sobel_horizontal = [cv2.Sobel(img[:,:,i], cv2.CV_64F, 0, 1, ksize=ksize) for i in range(3)]\n",
        "\n",
        "    # Calculate magnitude of edges for each channel\n",
        "    magnitude = [cv2.magnitude(sobel_vertical[i], sobel_horizontal[i]) for i in range(3)]\n",
        "\n",
        "    # Threshold the magnitude image for each channel\n",
        "    magnitude_thresh = [cv2.threshold(magnitude[i], threshold, 255, cv2.THRESH_BINARY)[1] for i in range(3)]\n",
        "\n",
        "    # Convert image to 8-bit for each channel\n",
        "    magnitude_thresh = [cv2.normalize(magnitude_thresh[i], None, 255, 0, cv2.NORM_MINMAX, cv2.CV_8U) for i in range(3)]\n",
        "\n",
        "    # Stack along the color channel axis\n",
        "    magnitude_thresh_rgb = np.stack(magnitude_thresh, axis=-1)\n",
        "\n",
        "    # Cast to float\n",
        "    return magnitude_thresh_rgb.astype('float32')\n",
        "\n"
      ],
      "metadata": {
        "id": "6H0bkAWqibOP"
      },
      "execution_count": 6,
      "outputs": []
    },
    {
      "cell_type": "code",
      "source": [
        "def my_augmentation(img):\n",
        "    # Flip the image horizontally\n",
        "    img = cv2.flip(img, 1)\n",
        "\n",
        "    # Apply shear\n",
        "    factor = 0.7\n",
        "    rows, cols, _ = img.shape\n",
        "    M = np.float32([[1, factor, 0], [0, 1, 0]])\n",
        "    img = cv2.warpAffine(img, M, (cols, rows))\n",
        "\n",
        "    # Adjust brightness\n",
        "    # Increase or decrease brightness by 50%\n",
        "    value = np.random.uniform(0.5, 1.5)\n",
        "    hsv = cv2.cvtColor(img, cv2.COLOR_BGR2HSV)\n",
        "    hsv = np.array(hsv, dtype = np.float64)\n",
        "    hsv[:,:,1] = hsv[:,:,1]*value\n",
        "    hsv[:,:,1][hsv[:,:,1]>255]  = 255\n",
        "    hsv = np.array(hsv, dtype = np.float32)\n",
        "    img = cv2.cvtColor(hsv, cv2.COLOR_HSV2BGR)\n",
        "\n",
        "    return img\n"
      ],
      "metadata": {
        "id": "pusXdIR1mkFO"
      },
      "execution_count": 7,
      "outputs": []
    },
    {
      "cell_type": "code",
      "source": [
        "def my_preprocessing(img):\n",
        "    img = my_augmentation(img)\n",
        "    img = apply_edge_detection(img)\n",
        "    return img\n",
        "\n",
        "\n"
      ],
      "metadata": {
        "id": "aDm4AkPdlqJ6"
      },
      "execution_count": 8,
      "outputs": []
    },
    {
      "cell_type": "code",
      "source": [
        "def extract_class(filename):\n",
        "    # Get the first character of the filename and convert it to an integer\n",
        "    class_label = int(filename.split('_')[0])\n",
        "    return class_label"
      ],
      "metadata": {
        "id": "4ZeqZNNSFkbg"
      },
      "execution_count": 9,
      "outputs": []
    },
    {
      "cell_type": "code",
      "source": [
        "train_files = os.listdir(folder_path + '/train')\n",
        "val_files = os.listdir(folder_path + '/val')\n",
        "test_files = os.listdir(folder_path + '/test')\n",
        "\n",
        "train_labels = [extract_class(file) for file in train_files]\n",
        "val_labels = [extract_class(file) for file in val_files]\n",
        "test_labels = [extract_class(file) for file in test_files]\n",
        "\n",
        "train_df = pd.DataFrame({'filename': train_files, 'class': train_labels})\n",
        "val_df = pd.DataFrame({'filename': val_files, 'class': val_labels})\n",
        "test_df = pd.DataFrame({'filename': test_files, 'class': test_labels})\n"
      ],
      "metadata": {
        "id": "mpKua7kC6hyL"
      },
      "execution_count": 10,
      "outputs": []
    },
    {
      "cell_type": "code",
      "source": [
        "BATCH_SIZE = 16\n",
        "# Create generator with preprocessing function\n",
        "train_datagen = ImageDataGenerator(rescale=1./255, preprocessing_function=my_preprocessing)\n",
        "val_datagen = ImageDataGenerator(rescale=1./255, preprocessing_function=my_preprocessing)\n",
        "test_datagen = ImageDataGenerator(rescale=1./255, preprocessing_function=my_preprocessing)\n",
        "\n",
        "# Convert class labels to strings\n",
        "train_df['class'] = train_df['class'].astype(str)\n",
        "val_df['class'] = val_df['class'].astype(str)\n",
        "test_df['class'] = test_df['class'].astype(str)\n",
        "\n",
        "# Then call the generators\n",
        "train_generator = train_datagen.flow_from_dataframe(\n",
        "    dataframe=train_df,\n",
        "    directory=folder_path + '/train',\n",
        "    x_col=\"filename\",\n",
        "    y_col=\"class\",\n",
        "    target_size=(IMG_HEIGHT, IMG_WIDTH),\n",
        "    batch_size=BATCH_SIZE,\n",
        "    class_mode='categorical')\n",
        "\n",
        "val_generator = val_datagen.flow_from_dataframe(\n",
        "    dataframe=val_df,\n",
        "    directory=folder_path + '/val',\n",
        "    x_col=\"filename\",\n",
        "    y_col=\"class\",\n",
        "    target_size=(IMG_HEIGHT, IMG_WIDTH),\n",
        "    batch_size=BATCH_SIZE,\n",
        "    class_mode='categorical')\n",
        "\n",
        "test_generator = test_datagen.flow_from_dataframe(\n",
        "    dataframe=test_df,\n",
        "    directory=folder_path + '/test',\n",
        "    x_col=\"filename\",\n",
        "    y_col=\"class\",\n",
        "    target_size=(IMG_HEIGHT, IMG_WIDTH),\n",
        "    batch_size=BATCH_SIZE,\n",
        "    class_mode='categorical')\n",
        "\n",
        "\n"
      ],
      "metadata": {
        "colab": {
          "base_uri": "https://localhost:8080/"
        },
        "id": "naMomjanFmck",
        "outputId": "dc47aa6c-0906-48d5-b5d3-862ea12f4ae2"
      },
      "execution_count": 11,
      "outputs": [
        {
          "output_type": "stream",
          "name": "stdout",
          "text": [
            "Found 1686 validated image filenames belonging to 4 classes.\n",
            "Found 361 validated image filenames belonging to 4 classes.\n",
            "Found 362 validated image filenames belonging to 4 classes.\n"
          ]
        }
      ]
    },
    {
      "cell_type": "code",
      "source": [
        "base_model = VGG16(weights='imagenet', include_top=False, input_shape=(IMG_WIDTH, IMG_HEIGHT, 3))\n",
        "\n",
        "x = base_model.output\n",
        "x = Flatten()(x)\n",
        "x = Dropout(0.5)(x)\n",
        "predictions = Dense(len(train_generator.class_indices), activation='softmax', kernel_regularizer=tf.keras.regularizers.l2(0.1))(x)  # Add L2 regularization\n",
        "model = Model(inputs=base_model.input, outputs=predictions)\n",
        "\n",
        "for layer in base_model.layers:\n",
        "    layer.trainable = False\n",
        "\n",
        "\n",
        "learning_rate = 0.0001\n",
        "\n",
        "optimizer = tf.keras.optimizers.Adam(learning_rate=learning_rate)\n",
        "\n",
        "model.compile(optimizer=optimizer, loss='categorical_crossentropy', metrics=['accuracy', 'Precision', 'Recall'])\n",
        "\n",
        "early_stopping = EarlyStopping(monitor='val_loss', patience=3, restore_best_weights=True)\n",
        "model_checkpoint = ModelCheckpoint('best_model.h5', monitor='val_loss', save_best_only=True)"
      ],
      "metadata": {
        "id": "i8kYyBaHpmas"
      },
      "execution_count": 12,
      "outputs": []
    },
    {
      "cell_type": "code",
      "source": [
        "steps_per_epoch = len(train_df) // BATCH_SIZE\n",
        "validation_steps = len(val_df) // BATCH_SIZE\n",
        "\n",
        "history = model.fit(train_generator,\n",
        "                    steps_per_epoch=steps_per_epoch,\n",
        "                    epochs=8,\n",
        "                    validation_data=val_generator,\n",
        "                    validation_steps=validation_steps,\n",
        "                    callbacks=[early_stopping, model_checkpoint])\n"
      ],
      "metadata": {
        "colab": {
          "base_uri": "https://localhost:8080/"
        },
        "id": "Yzg1Zs-dj3J7",
        "outputId": "29373829-459c-4e49-ea86-1a9a37d5ea85"
      },
      "execution_count": 13,
      "outputs": [
        {
          "output_type": "stream",
          "name": "stdout",
          "text": [
            "Epoch 1/8\n",
            "105/105 [==============================] - 33s 212ms/step - loss: 2.0165 - accuracy: 0.3108 - precision: 0.3420 - recall: 0.1497 - val_loss: 1.5872 - val_accuracy: 0.4403 - val_precision: 1.0000 - val_recall: 0.0114\n",
            "Epoch 2/8\n",
            "105/105 [==============================] - 16s 149ms/step - loss: 1.6295 - accuracy: 0.3796 - precision: 0.4260 - recall: 0.1707 - val_loss: 1.4062 - val_accuracy: 0.5028 - val_precision: 0.9231 - val_recall: 0.0682\n",
            "Epoch 3/8\n",
            "105/105 [==============================] - 16s 148ms/step - loss: 1.4763 - accuracy: 0.4066 - precision: 0.4807 - recall: 0.1934 - val_loss: 1.3295 - val_accuracy: 0.5511 - val_precision: 0.8600 - val_recall: 0.1222\n",
            "Epoch 4/8\n",
            "105/105 [==============================] - 24s 231ms/step - loss: 1.3583 - accuracy: 0.4826 - precision: 0.5950 - recall: 0.2569 - val_loss: 1.2702 - val_accuracy: 0.5227 - val_precision: 0.7739 - val_recall: 0.2528\n",
            "Epoch 5/8\n",
            "105/105 [==============================] - 18s 174ms/step - loss: 1.2896 - accuracy: 0.5240 - precision: 0.6535 - recall: 0.2970 - val_loss: 1.2453 - val_accuracy: 0.5739 - val_precision: 0.8590 - val_recall: 0.1903\n",
            "Epoch 6/8\n",
            "105/105 [==============================] - 17s 158ms/step - loss: 1.2548 - accuracy: 0.5168 - precision: 0.6476 - recall: 0.2982 - val_loss: 1.1995 - val_accuracy: 0.5881 - val_precision: 0.8333 - val_recall: 0.2273\n",
            "Epoch 7/8\n",
            "105/105 [==============================] - 16s 149ms/step - loss: 1.1863 - accuracy: 0.5702 - precision: 0.7186 - recall: 0.3542 - val_loss: 1.1696 - val_accuracy: 0.5909 - val_precision: 0.7655 - val_recall: 0.3153\n",
            "Epoch 8/8\n",
            "105/105 [==============================] - 16s 147ms/step - loss: 1.1715 - accuracy: 0.5707 - precision: 0.6998 - recall: 0.3461 - val_loss: 1.1648 - val_accuracy: 0.5966 - val_precision: 0.8390 - val_recall: 0.2812\n"
          ]
        }
      ]
    },
    {
      "cell_type": "code",
      "source": [
        "model.load_weights('best_model.h5')\n"
      ],
      "metadata": {
        "id": "oQR2GhZSYyha"
      },
      "execution_count": 14,
      "outputs": []
    },
    {
      "cell_type": "code",
      "source": [
        "predictions = model.predict(test_generator)\n",
        "y_pred = np.argmax(predictions, axis=1)"
      ],
      "metadata": {
        "colab": {
          "base_uri": "https://localhost:8080/"
        },
        "id": "obvhp-P7gm-r",
        "outputId": "bfd676fd-f5b4-4953-ce7c-4db8c845844c"
      },
      "execution_count": 15,
      "outputs": [
        {
          "output_type": "stream",
          "name": "stdout",
          "text": [
            "23/23 [==============================] - 5s 204ms/step\n"
          ]
        }
      ]
    },
    {
      "cell_type": "code",
      "source": [
        "y_true = test_generator.classes\n",
        "\n",
        "# Compute the confusion matrix\n",
        "cm = confusion_matrix(y_true, y_pred)\n",
        "\n",
        "# Plot the confusion matrix\n",
        "plt.figure(figsize=(10,10))\n",
        "sns.heatmap(cm, annot=True, fmt=\".0f\", linewidths=.5, square = True, cmap = 'Blues_r')\n",
        "plt.ylabel('Actual label')\n",
        "plt.xlabel('Predicted label')\n",
        "\n",
        "# Print the classification report\n",
        "cr = classification_report(y_true, y_pred)\n",
        "print(cr)\n"
      ],
      "metadata": {
        "colab": {
          "base_uri": "https://localhost:8080/",
          "height": 1000
        },
        "id": "gv0pI0ykBc4R",
        "outputId": "43350950-3b69-4f35-9c78-24de1236b6e8"
      },
      "execution_count": 16,
      "outputs": [
        {
          "output_type": "stream",
          "name": "stdout",
          "text": [
            "              precision    recall  f1-score   support\n",
            "\n",
            "           0       0.31      0.46      0.37       104\n",
            "           1       0.33      0.33      0.33       129\n",
            "           2       0.08      0.09      0.09        43\n",
            "           3       0.28      0.09      0.14        86\n",
            "\n",
            "    accuracy                           0.28       362\n",
            "   macro avg       0.25      0.25      0.23       362\n",
            "weighted avg       0.28      0.28      0.27       362\n",
            "\n"
          ]
        },
        {
          "output_type": "display_data",
          "data": {
            "text/plain": [
              "<Figure size 1000x1000 with 2 Axes>"
            ],
            "image/png": "[encoded data removed]"
          },
          "metadata": {}
        }
      ]
    }
  ]
}