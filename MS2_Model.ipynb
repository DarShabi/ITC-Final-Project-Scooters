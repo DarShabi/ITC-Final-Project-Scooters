{
  "cells": [
    {
      "cell_type": "markdown",
      "id": "822df37c",
      "metadata": {
        "id": "822df37c"
      },
      "source": [
        "# Start"
      ]
    },
    {
      "cell_type": "code",
      "execution_count": 1,
      "id": "67536792",
      "metadata": {
        "id": "67536792"
      },
      "outputs": [],
      "source": [
        "# imports\n",
        "from sklearn.dummy import DummyClassifier\n",
        "from sklearn.pipeline import Pipeline\n",
        "import tensorflow as tf\n",
        "from scikeras.wrappers import KerasClassifier\n",
        "from sklearn.metrics import accuracy_score, precision_score, recall_score, f1_score, classification_report\n",
        "import pandas as pd\n",
        "from sklearn.base import BaseEstimator, TransformerMixin\n",
        "import numpy as np\n",
        "from sklearn.model_selection import train_test_split\n",
        "from tensorflow.keras.datasets import mnist\n",
        "import matplotlib.pyplot as plt\n",
        "from tensorflow.keras import Sequential\n",
        "from tensorflow.keras.layers import Flatten, Dense\n"
      ]
    },
    {
      "cell_type": "code",
      "execution_count": 2,
      "id": "bdf6f85b",
      "metadata": {
        "id": "bdf6f85b"
      },
      "outputs": [],
      "source": [
        "\n",
        "# Load MNIST dataset\n",
        "(X_train_full, y_train_full), (X_test, y_test) = mnist.load_data()\n",
        "\n",
        "# Scale the images\n",
        "X_train_full = X_train_full / 255.0\n",
        "X_test = X_test / 255.0\n",
        "\n",
        "# Reshape the data\n",
        "X_train_full = X_train_full.reshape((-1, 28, 28, 1))  # The model expects 3D images\n",
        "X_test = X_test.reshape((-1, 28, 28, 1))\n",
        "\n",
        "# Split the full training set into a validation set and a (smaller) training set\n",
        "X_train, X_val, y_train, y_val = train_test_split(X_train_full, y_train_full, test_size=0.1, random_state=42)\n",
        "\n",
        "# Set the number of classes (for MNIST, it's 10)\n",
        "NUM_CLASSES = 10\n",
        "\n",
        "# Now you can run your code with this dataset."
      ]
    },
    {
      "cell_type": "markdown",
      "id": "76bf33e2",
      "metadata": {
        "id": "76bf33e2"
      },
      "source": [
        "# Mapping"
      ]
    },
    {
      "cell_type": "code",
      "execution_count": 3,
      "id": "26a2946b",
      "metadata": {
        "id": "26a2946b"
      },
      "outputs": [],
      "source": [
        "class LabelMapper(BaseEstimator, TransformerMixin):\n",
        "    def __init__(self, pandas_series=True):\n",
        "        self.pandas_series = pandas_series\n",
        "\n",
        "    def fit(self, X, y=None):\n",
        "        return self\n",
        "\n",
        "    def transform(self, X, y=None):\n",
        "        if self.pandas_series:\n",
        "            return X.map(self.map_labels)\n",
        "        else:\n",
        "            return np.array([self.map_labels(x) for x in X])\n",
        "\n",
        "    @staticmethod\n",
        "    def map_labels(original_label):\n",
        "        if original_label in [0, 4, 5, 6]:\n",
        "            return 0  # scooter\n",
        "        elif original_label == 1:\n",
        "            return 1  # not a scooter\n",
        "        elif original_label in [2, 3]:\n",
        "            return 2  # picture not clear\n",
        "        else:\n",
        "            return None  # handle cases outside your defined labels, if any\n"
      ]
    },
    {
      "cell_type": "raw",
      "id": "39f505e9",
      "metadata": {
        "id": "39f505e9"
      },
      "source": [
        "mapping_pipeline = Pipeline([\n",
        "    ('mapper', LabelMapper(pandas_series=False)),  # If labels are not pandas Series, set pandas_series=False\n",
        "])\n",
        "\n",
        "# Transform the labels for each set\n",
        "\n",
        "\n",
        "\n",
        "y_train_mapped = mapping_pipeline.fit_transform(y_train)\n",
        "y_val_mapped = mapping_pipeline.transform(y_val)\n",
        "y_test_mapped = mapping_pipeline.transform(y_test)"
      ]
    },
    {
      "cell_type": "code",
      "execution_count": 4,
      "id": "d58f4af2",
      "metadata": {
        "id": "d58f4af2"
      },
      "outputs": [],
      "source": [
        "y_train_mapped = y_train\n",
        "y_val_mapped = y_val\n",
        "y_test_mapped = y_test"
      ]
    },
    {
      "cell_type": "markdown",
      "id": "af7df17e",
      "metadata": {
        "id": "af7df17e"
      },
      "source": [
        "# Modeling"
      ]
    },
    {
      "cell_type": "markdown",
      "id": "1ee4f93c",
      "metadata": {
        "id": "1ee4f93c"
      },
      "source": [
        "## Dummy Classifier"
      ]
    },
    {
      "cell_type": "code",
      "execution_count": 5,
      "id": "1e60cded",
      "metadata": {
        "colab": {
          "base_uri": "https://localhost:8080/"
        },
        "id": "1e60cded",
        "outputId": "08c7b7c9-f505-4fa8-c59d-e6f975bbcc95"
      },
      "outputs": [
        {
          "output_type": "stream",
          "name": "stdout",
          "text": [
            "Dummy classifier accuracy: 0.109\n"
          ]
        }
      ],
      "source": [
        "\n",
        "# Create a pipeline\n",
        "dummy_pipeline = Pipeline([\n",
        "    ('classifier', DummyClassifier(strategy='most_frequent')),  # Always predict the most frequent class\n",
        "])\n",
        "\n",
        "# Train the dummy classifier\n",
        "dummy_pipeline.fit(X_train, y_train_mapped)\n",
        "\n",
        "# Evaluate the dummy classifier\n",
        "dummy_score = dummy_pipeline.score(X_val, y_val_mapped)\n",
        "print(f\"Dummy classifier accuracy: {dummy_score}\")\n"
      ]
    },
    {
      "cell_type": "markdown",
      "id": "c116364a",
      "metadata": {
        "id": "c116364a"
      },
      "source": [
        "## simple NN"
      ]
    },
    {
      "cell_type": "code",
      "execution_count": 6,
      "id": "90b30893",
      "metadata": {
        "id": "90b30893"
      },
      "outputs": [],
      "source": [
        "class SimpleNN(tf.keras.Model):\n",
        "    def __init__(self, num_classes):\n",
        "        super(SimpleNN, self).__init__()\n",
        "        self.flatten = tf.keras.layers.Flatten()\n",
        "        self.d1 = tf.keras.layers.Dense(128, activation='relu')\n",
        "        self.d2 = tf.keras.layers.Dense(num_classes, activation='softmax')\n",
        "        self.compile(optimizer='adam', \n",
        "                     loss='sparse_categorical_crossentropy', \n",
        "                     metrics=['accuracy'])\n",
        "\n",
        "    def call(self, x):\n",
        "        x = self.flatten(x)\n",
        "        x = self.d1(x)\n",
        "        return self.d2(x)"
      ]
    },
    {
      "cell_type": "code",
      "execution_count": 7,
      "id": "e120a35e",
      "metadata": {
        "id": "e120a35e"
      },
      "outputs": [],
      "source": [
        "def create_simple_nn():\n",
        "    model = Sequential([\n",
        "        Flatten(input_shape=(28, 28, 1)),\n",
        "        Dense(128, activation='relu'),\n",
        "        Dense(NUM_CLASSES, activation='softmax')\n",
        "    ])\n",
        "    model.compile(optimizer='adam',\n",
        "                  loss='sparse_categorical_crossentropy',\n",
        "                  metrics=['accuracy'])\n",
        "    return model"
      ]
    },
    {
      "cell_type": "code",
      "execution_count": 8,
      "id": "7fc0377c",
      "metadata": {
        "colab": {
          "base_uri": "https://localhost:8080/",
          "height": 1000
        },
        "id": "7fc0377c",
        "outputId": "d4deb3c5-6b91-44af-ea9b-bbb094dfcace"
      },
      "outputs": [
        {
          "output_type": "stream",
          "name": "stderr",
          "text": [
            "/usr/local/lib/python3.10/dist-packages/scikeras/wrappers.py:301: UserWarning: ``build_fn`` will be renamed to ``model`` in a future release, at which point use of ``build_fn`` will raise an Error instead.\n",
            "  warnings.warn(\n"
          ]
        },
        {
          "output_type": "stream",
          "name": "stdout",
          "text": [
            "\n",
            "Simple Neural Network Metrics (Batch Size: 16):\n",
            "Accuracy: 0.9768333333333333\n",
            "Precision: 0.9770044419194267\n",
            "Recall: 0.9768333333333333\n",
            "F1-Score: 0.9768244270911439\n",
            "              precision    recall  f1-score   support\n",
            "\n",
            "           0       0.99      0.97      0.98       624\n",
            "           1       0.99      0.99      0.99       654\n",
            "           2       0.97      0.98      0.97       572\n",
            "           3       0.98      0.98      0.98       589\n",
            "           4       0.96      0.99      0.97       580\n",
            "           5       0.97      0.97      0.97       551\n",
            "           6       0.99      0.99      0.99       580\n",
            "           7       0.97      0.97      0.97       633\n",
            "           8       0.96      0.98      0.97       585\n",
            "           9       0.99      0.94      0.96       632\n",
            "\n",
            "    accuracy                           0.98      6000\n",
            "   macro avg       0.98      0.98      0.98      6000\n",
            "weighted avg       0.98      0.98      0.98      6000\n",
            "\n"
          ]
        },
        {
          "output_type": "stream",
          "name": "stderr",
          "text": [
            "/usr/local/lib/python3.10/dist-packages/scikeras/wrappers.py:301: UserWarning: ``build_fn`` will be renamed to ``model`` in a future release, at which point use of ``build_fn`` will raise an Error instead.\n",
            "  warnings.warn(\n"
          ]
        },
        {
          "output_type": "stream",
          "name": "stdout",
          "text": [
            "\n",
            "Simple Neural Network Metrics (Batch Size: 32):\n",
            "Accuracy: 0.9743333333333334\n",
            "Precision: 0.9744765096093059\n",
            "Recall: 0.9743333333333334\n",
            "F1-Score: 0.9743480164519269\n",
            "              precision    recall  f1-score   support\n",
            "\n",
            "           0       0.99      0.97      0.98       624\n",
            "           1       0.99      0.99      0.99       654\n",
            "           2       0.96      0.97      0.96       572\n",
            "           3       0.97      0.97      0.97       589\n",
            "           4       0.99      0.98      0.98       580\n",
            "           5       0.96      0.97      0.97       551\n",
            "           6       0.97      0.99      0.98       580\n",
            "           7       0.98      0.97      0.97       633\n",
            "           8       0.98      0.96      0.97       585\n",
            "           9       0.96      0.98      0.97       632\n",
            "\n",
            "    accuracy                           0.97      6000\n",
            "   macro avg       0.97      0.97      0.97      6000\n",
            "weighted avg       0.97      0.97      0.97      6000\n",
            "\n"
          ]
        },
        {
          "output_type": "stream",
          "name": "stderr",
          "text": [
            "/usr/local/lib/python3.10/dist-packages/scikeras/wrappers.py:301: UserWarning: ``build_fn`` will be renamed to ``model`` in a future release, at which point use of ``build_fn`` will raise an Error instead.\n",
            "  warnings.warn(\n"
          ]
        },
        {
          "output_type": "stream",
          "name": "stdout",
          "text": [
            "\n",
            "Simple Neural Network Metrics (Batch Size: 64):\n",
            "Accuracy: 0.9763333333333334\n",
            "Precision: 0.9764640309384934\n",
            "Recall: 0.9763333333333334\n",
            "F1-Score: 0.9763210592808007\n",
            "              precision    recall  f1-score   support\n",
            "\n",
            "           0       0.99      0.97      0.98       624\n",
            "           1       0.98      1.00      0.99       654\n",
            "           2       0.96      0.98      0.97       572\n",
            "           3       0.97      0.97      0.97       589\n",
            "           4       0.97      0.99      0.98       580\n",
            "           5       0.96      0.97      0.96       551\n",
            "           6       0.99      0.99      0.99       580\n",
            "           7       0.99      0.97      0.98       633\n",
            "           8       0.97      0.96      0.97       585\n",
            "           9       0.99      0.95      0.97       632\n",
            "\n",
            "    accuracy                           0.98      6000\n",
            "   macro avg       0.98      0.98      0.98      6000\n",
            "weighted avg       0.98      0.98      0.98      6000\n",
            "\n"
          ]
        },
        {
          "output_type": "stream",
          "name": "stderr",
          "text": [
            "/usr/local/lib/python3.10/dist-packages/scikeras/wrappers.py:301: UserWarning: ``build_fn`` will be renamed to ``model`` in a future release, at which point use of ``build_fn`` will raise an Error instead.\n",
            "  warnings.warn(\n"
          ]
        },
        {
          "output_type": "stream",
          "name": "stdout",
          "text": [
            "\n",
            "Simple Neural Network Metrics (Batch Size: 94):\n",
            "Accuracy: 0.9721666666666666\n",
            "Precision: 0.9723457622550756\n",
            "Recall: 0.9721666666666666\n",
            "F1-Score: 0.9721825629766351\n",
            "              precision    recall  f1-score   support\n",
            "\n",
            "           0       0.98      0.97      0.98       624\n",
            "           1       0.98      0.99      0.99       654\n",
            "           2       0.96      0.97      0.96       572\n",
            "           3       0.98      0.96      0.97       589\n",
            "           4       0.96      0.98      0.97       580\n",
            "           5       0.96      0.97      0.96       551\n",
            "           6       0.99      0.96      0.98       580\n",
            "           7       0.98      0.97      0.98       633\n",
            "           8       0.96      0.96      0.96       585\n",
            "           9       0.96      0.98      0.97       632\n",
            "\n",
            "    accuracy                           0.97      6000\n",
            "   macro avg       0.97      0.97      0.97      6000\n",
            "weighted avg       0.97      0.97      0.97      6000\n",
            "\n"
          ]
        },
        {
          "output_type": "stream",
          "name": "stderr",
          "text": [
            "/usr/local/lib/python3.10/dist-packages/scikeras/wrappers.py:301: UserWarning: ``build_fn`` will be renamed to ``model`` in a future release, at which point use of ``build_fn`` will raise an Error instead.\n",
            "  warnings.warn(\n"
          ]
        },
        {
          "output_type": "stream",
          "name": "stdout",
          "text": [
            "\n",
            "Simple Neural Network Metrics (Batch Size: 128):\n",
            "Accuracy: 0.974\n",
            "Precision: 0.9740951330176858\n",
            "Recall: 0.974\n",
            "F1-Score: 0.9740020400747706\n",
            "              precision    recall  f1-score   support\n",
            "\n",
            "           0       0.99      0.98      0.98       624\n",
            "           1       0.98      0.99      0.99       654\n",
            "           2       0.97      0.97      0.97       572\n",
            "           3       0.96      0.97      0.97       589\n",
            "           4       0.98      0.96      0.97       580\n",
            "           5       0.98      0.97      0.97       551\n",
            "           6       0.98      0.99      0.99       580\n",
            "           7       0.98      0.97      0.97       633\n",
            "           8       0.96      0.96      0.96       585\n",
            "           9       0.96      0.98      0.97       632\n",
            "\n",
            "    accuracy                           0.97      6000\n",
            "   macro avg       0.97      0.97      0.97      6000\n",
            "weighted avg       0.97      0.97      0.97      6000\n",
            "\n"
          ]
        },
        {
          "output_type": "stream",
          "name": "stderr",
          "text": [
            "/usr/local/lib/python3.10/dist-packages/scikeras/wrappers.py:301: UserWarning: ``build_fn`` will be renamed to ``model`` in a future release, at which point use of ``build_fn`` will raise an Error instead.\n",
            "  warnings.warn(\n"
          ]
        },
        {
          "output_type": "stream",
          "name": "stdout",
          "text": [
            "\n",
            "Simple Neural Network Metrics (Batch Size: 170):\n",
            "Accuracy: 0.9711666666666666\n",
            "Precision: 0.9714525536807932\n",
            "Recall: 0.9711666666666666\n",
            "F1-Score: 0.9711838110044079\n",
            "              precision    recall  f1-score   support\n",
            "\n",
            "           0       0.99      0.97      0.98       624\n",
            "           1       0.98      0.99      0.99       654\n",
            "           2       0.94      0.98      0.96       572\n",
            "           3       0.96      0.97      0.97       589\n",
            "           4       0.97      0.97      0.97       580\n",
            "           5       0.97      0.95      0.96       551\n",
            "           6       0.98      0.99      0.98       580\n",
            "           7       0.99      0.95      0.97       633\n",
            "           8       0.97      0.97      0.97       585\n",
            "           9       0.96      0.97      0.97       632\n",
            "\n",
            "    accuracy                           0.97      6000\n",
            "   macro avg       0.97      0.97      0.97      6000\n",
            "weighted avg       0.97      0.97      0.97      6000\n",
            "\n"
          ]
        },
        {
          "output_type": "stream",
          "name": "stderr",
          "text": [
            "/usr/local/lib/python3.10/dist-packages/scikeras/wrappers.py:301: UserWarning: ``build_fn`` will be renamed to ``model`` in a future release, at which point use of ``build_fn`` will raise an Error instead.\n",
            "  warnings.warn(\n"
          ]
        },
        {
          "output_type": "stream",
          "name": "stdout",
          "text": [
            "\n",
            "Simple Neural Network Metrics (Batch Size: 210):\n",
            "Accuracy: 0.9686666666666667\n",
            "Precision: 0.9689133335162\n",
            "Recall: 0.9686666666666667\n",
            "F1-Score: 0.968706781094055\n",
            "              precision    recall  f1-score   support\n",
            "\n",
            "           0       0.98      0.97      0.97       624\n",
            "           1       0.99      0.99      0.99       654\n",
            "           2       0.95      0.97      0.96       572\n",
            "           3       0.96      0.96      0.96       589\n",
            "           4       0.98      0.96      0.97       580\n",
            "           5       0.97      0.96      0.96       551\n",
            "           6       0.98      0.98      0.98       580\n",
            "           7       0.98      0.96      0.97       633\n",
            "           8       0.94      0.97      0.96       585\n",
            "           9       0.95      0.97      0.96       632\n",
            "\n",
            "    accuracy                           0.97      6000\n",
            "   macro avg       0.97      0.97      0.97      6000\n",
            "weighted avg       0.97      0.97      0.97      6000\n",
            "\n"
          ]
        },
        {
          "output_type": "display_data",
          "data": {
            "text/plain": [
              "<Figure size 640x480 with 1 Axes>"
            ],
            "image/png": "[encoded data removed]"
          },
          "metadata": {}
        }
      ],
      "source": [
        "batch_sizes = [16, 32, 64, 94, 128, 170, 210]\n",
        "val_errors = []\n",
        "\n",
        "for batch_size in batch_sizes:\n",
        "    # Redefine the pipeline with the new batch size\n",
        "    nn_pipeline = Pipeline([\n",
        "        ('classifier', KerasClassifier(build_fn=create_simple_nn, epochs=5, batch_size=batch_size, verbose=0)),\n",
        "    ])\n",
        "\n",
        "    # Train the NN classifier\n",
        "    nn_pipeline.fit(X_train, y_train_mapped)\n",
        "    y_val_pred_nn = nn_pipeline.predict(X_val)\n",
        "\n",
        "    print(f\"\\nSimple Neural Network Metrics (Batch Size: {batch_size}):\")\n",
        "    print(f\"Accuracy: {accuracy_score(y_val_mapped, y_val_pred_nn)}\")\n",
        "    print(f\"Precision: {precision_score(y_val_mapped, y_val_pred_nn, average='weighted')}\")\n",
        "    print(f\"Recall: {recall_score(y_val_mapped, y_val_pred_nn, average='weighted')}\")\n",
        "    print(f\"F1-Score: {f1_score(y_val_mapped, y_val_pred_nn, average='weighted')}\")\n",
        "    print(classification_report(y_val_mapped, y_val_pred_nn))\n",
        "    # Evaluate the NN classifier\n",
        "    nn_score = nn_pipeline.score(X_val, y_val_mapped)\n",
        "    val_errors.append(1 - nn_score)  # Error is 1 - accuracy\n",
        "\n",
        "# Plot validation error vs batch size\n",
        "plt.plot(batch_sizes, val_errors, marker='o')\n",
        "plt.xlabel('Batch size')\n",
        "plt.ylabel('Validation error')\n",
        "plt.show()\n"
      ]
    }
  ],
  "metadata": {
    "kernelspec": {
      "display_name": "Python 3 (ipykernel)",
      "language": "python",
      "name": "python3"
    },
    "language_info": {
      "codemirror_mode": {
        "name": "ipython",
        "version": 3
      },
      "file_extension": ".py",
      "mimetype": "text/x-python",
      "name": "python",
      "nbconvert_exporter": "python",
      "pygments_lexer": "ipython3",
      "version": "3.9.12"
    },
    "toc": {
      "base_numbering": 1,
      "nav_menu": {},
      "number_sections": true,
      "sideBar": true,
      "skip_h1_title": false,
      "title_cell": "Table of Contents",
      "title_sidebar": "Contents",
      "toc_cell": false,
      "toc_position": {},
      "toc_section_display": true,
      "toc_window_display": false
    },
    "varInspector": {
      "cols": {
        "lenName": 16,
        "lenType": 16,
        "lenVar": 40
      },
      "kernels_config": {
        "python": {
          "delete_cmd_postfix": "",
          "delete_cmd_prefix": "del ",
          "library": "var_list.py",
          "varRefreshCmd": "print(var_dic_list())"
        },
        "r": {
          "delete_cmd_postfix": ") ",
          "delete_cmd_prefix": "rm(",
          "library": "var_list.r",
          "varRefreshCmd": "cat(var_dic_list()) "
        }
      },
      "types_to_exclude": [
        "module",
        "function",
        "builtin_function_or_method",
        "instance",
        "_Feature"
      ],
      "window_display": false
    },
    "colab": {
      "provenance": []
    }
  },
  "nbformat": 4,
  "nbformat_minor": 5
}