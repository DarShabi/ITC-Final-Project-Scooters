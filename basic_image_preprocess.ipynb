{
 "cells": [
  {
   "cell_type": "code",
   "execution_count": 31,
   "id": "9994efca",
   "metadata": {},
   "outputs": [],
   "source": [
    "from PIL import Image\n",
    "import numpy as np"
   ]
  },
  {
   "cell_type": "markdown",
   "id": "0c991d11",
   "metadata": {},
   "source": [
    "##### Opening an image"
   ]
  },
  {
   "cell_type": "code",
   "execution_count": 32,
   "id": "ab5b85e3",
   "metadata": {},
   "outputs": [],
   "source": [
    "filename = \"example_image.jpg\"\n",
    "\n",
    "try: \n",
    "    img  = Image.open(filename) \n",
    "except IOError:\n",
    "    pass"
   ]
  },
  {
   "cell_type": "markdown",
   "id": "9f1dbe1a",
   "metadata": {},
   "source": [
    "##### Retrieve size of image"
   ]
  },
  {
   "cell_type": "code",
   "execution_count": 33,
   "id": "15700bac",
   "metadata": {},
   "outputs": [],
   "source": [
    "filename = \"example_image.jpg\"\n",
    "with Image.open(filename) as image:\n",
    "    width, height = image.size"
   ]
  },
  {
   "cell_type": "code",
   "execution_count": 34,
   "id": "908aca2a",
   "metadata": {},
   "outputs": [
    {
     "data": {
      "text/plain": [
       "1200"
      ]
     },
     "execution_count": 34,
     "metadata": {},
     "output_type": "execute_result"
    }
   ],
   "source": [
    "width"
   ]
  },
  {
   "cell_type": "code",
   "execution_count": 35,
   "id": "21793aa2",
   "metadata": {},
   "outputs": [
    {
     "data": {
      "text/plain": [
       "1600"
      ]
     },
     "execution_count": 35,
     "metadata": {},
     "output_type": "execute_result"
    }
   ],
   "source": [
    "height"
   ]
  },
  {
   "cell_type": "markdown",
   "id": "15995b3b",
   "metadata": {},
   "source": [
    "##### Rotation of the image"
   ]
  },
  {
   "cell_type": "code",
   "execution_count": 36,
   "id": "4098ec8c",
   "metadata": {},
   "outputs": [],
   "source": [
    "if width > height:\n",
    "    img = img.rotate(angle = 90)"
   ]
  },
  {
   "cell_type": "markdown",
   "id": "ef813b2b",
   "metadata": {},
   "source": [
    "##### Resizing of image"
   ]
  },
  {
   "cell_type": "code",
   "execution_count": 37,
   "id": "a2826357",
   "metadata": {},
   "outputs": [],
   "source": [
    "required_width = 1200\n",
    "required_height = 1600"
   ]
  },
  {
   "cell_type": "code",
   "execution_count": 38,
   "id": "b3513a84",
   "metadata": {},
   "outputs": [],
   "source": [
    "img = img.resize((required_width, required_height))"
   ]
  },
  {
   "cell_type": "markdown",
   "id": "017f15ef",
   "metadata": {},
   "source": [
    "##### Break image down into normalized pixels"
   ]
  },
  {
   "cell_type": "code",
   "execution_count": 39,
   "id": "0c3e7db0",
   "metadata": {},
   "outputs": [],
   "source": [
    "pix = np.array(img)\n",
    "normalized_pix = pix/255"
   ]
  },
  {
   "cell_type": "markdown",
   "id": "caade924",
   "metadata": {},
   "source": [
    "##### Save changes in image:"
   ]
  },
  {
   "cell_type": "code",
   "execution_count": 40,
   "id": "cfd73f77",
   "metadata": {},
   "outputs": [],
   "source": [
    "path = r\"C:\\Users\\marc2\\Dropbox\\Data_Science_and_Machine_Learning_ITC\\Final Project\\example_image1.jpg\"\n",
    "img.save(path)"
   ]
  }
 ],
 "metadata": {
  "kernelspec": {
   "display_name": "Python 3 (ipykernel)",
   "language": "python",
   "name": "python3"
  },
  "language_info": {
   "codemirror_mode": {
    "name": "ipython",
    "version": 3
   },
   "file_extension": ".py",
   "mimetype": "text/x-python",
   "name": "python",
   "nbconvert_exporter": "python",
   "pygments_lexer": "ipython3",
   "version": "3.9.12"
  },
  "toc": {
   "base_numbering": 1,
   "nav_menu": {},
   "number_sections": true,
   "sideBar": true,
   "skip_h1_title": false,
   "title_cell": "Table of Contents",
   "title_sidebar": "Contents",
   "toc_cell": false,
   "toc_position": {},
   "toc_section_display": true,
   "toc_window_display": false
  }
 },
 "nbformat": 4,
 "nbformat_minor": 5
}
