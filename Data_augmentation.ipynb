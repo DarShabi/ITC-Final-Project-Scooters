{
  "nbformat": 4,
  "nbformat_minor": 0,
  "metadata": {
    "colab": {
      "provenance": []
    },
    "kernelspec": {
      "name": "python3",
      "display_name": "Python 3"
    },
    "language_info": {
      "name": "python"
    }
  },
  "cells": [
    {
      "cell_type": "code",
      "execution_count": 1,
      "metadata": {
        "id": "DUdd0Wrtxorq"
      },
      "outputs": [],
      "source": [
        "import os\n",
        "import numpy as np\n",
        "from PIL import Image\n",
        "from tensorflow.keras.preprocessing.image import ImageDataGenerator, img_to_array, load_img\n",
        "\n"
      ]
    },
    {
      "cell_type": "markdown",
      "source": [
        "# Building the DataGenerator"
      ],
      "metadata": {
        "id": "4d3cgNvJNL5D"
      }
    },
    {
      "cell_type": "code",
      "source": [
        "# Image data generator with the transformations\n",
        "datagen = ImageDataGenerator(\n",
        "    rotation_range=10,\n",
        "    width_shift_range=0.1,\n",
        "    height_shift_range=0.1,\n",
        "    brightness_range=[0.4, 1.5],\n",
        "    channel_shift_range=0.5,\n",
        "    shear_range=0.2,\n",
        "    zoom_range=[1, 1.3],\n",
        "    horizontal_flip=True\n",
        ")\n"
      ],
      "metadata": {
        "id": "wF3yMHAExskW"
      },
      "execution_count": 2,
      "outputs": []
    },
    {
      "cell_type": "markdown",
      "source": [
        "# Executing the DataGenerator"
      ],
      "metadata": {
        "id": "vSDKiqpFNaHQ"
      }
    },
    {
      "cell_type": "code",
      "source": [
        "# Directory where the images are located\n",
        "DIR = \"/content/sample_data/augmentation\"\n",
        "\n",
        "# Number of augmentation per pic\n",
        "NUM_OF_AUG = 10"
      ],
      "metadata": {
        "id": "MrI64a1PPPGF"
      },
      "execution_count": 3,
      "outputs": []
    },
    {
      "cell_type": "code",
      "source": [
        "# For each image in the directory\n",
        "for filename in os.listdir(DIR):\n",
        "    if filename.endswith(\".jpg\") or filename.endswith(\".png\"):  # Assuming images are in .jpg or .png format\n",
        "        # Load the image file\n",
        "        img = load_img(os.path.join(DIR, filename))\n",
        "        # Convert the image to a numpy array and reshape\n",
        "        img_array = img_to_array(img).reshape((1,) + img_to_array(img).shape)\n",
        "\n",
        "        # The original name of the image file without the extension\n",
        "        image_name = os.path.splitext(filename)[0]\n",
        "\n",
        "        # We want NUM_OF_AUG augmentations per image\n",
        "        for i, batch in enumerate(datagen.flow(img_array, batch_size=1,\n",
        "                                                save_to_dir=DIR,\n",
        "                                                save_prefix=image_name+\"_augmented\",\n",
        "                                                save_format='jpeg')):\n",
        "            if i == NUM_OF_AUG - 1:  # Stop after NUM_OF_AUG images\n",
        "                break"
      ],
      "metadata": {
        "id": "xFZ0h2ZPNbiC"
      },
      "execution_count": 4,
      "outputs": []
    },
    {
      "cell_type": "markdown",
      "source": [
        "# For testing - deleting all Augmented pics in the directory\n"
      ],
      "metadata": {
        "id": "u2XfOjXGNkRz"
      }
    },
    {
      "cell_type": "code",
      "source": [
        "for filename in os.listdir(DIR):\n",
        "    if \"_augmented\" in filename:  # check if \"_augmented\" is in the filename\n",
        "        os.remove(os.path.join(DIR, filename))\n",
        "        print(f\"Deleted: {filename}\")\n"
      ],
      "metadata": {
        "colab": {
          "base_uri": "https://localhost:8080/"
        },
        "id": "kYAL09VoEpWz",
        "outputId": "29ad2786-1192-4bf4-9950-aabd9ad4cdc0"
      },
      "execution_count": 5,
      "outputs": [
        {
          "output_type": "stream",
          "name": "stdout",
          "text": [
            "Deleted: 2b453ce6-f97e-4497-b6c0-20dbd50055ce_augmented_0_1475.jpeg\n",
            "Deleted: f31d5a4a-65be-42ed-89c6-486366d99445_augmented_0_7323.jpeg\n",
            "Deleted: 8cba5bef-bb20-4b66-96f2-938e44a41aea_augmented_0_2616.jpeg\n",
            "Deleted: f31d5a4a-65be-42ed-89c6-486366d99445_augmented_0_9017.jpeg\n",
            "Deleted: f31d5a4a-65be-42ed-89c6-486366d99445_augmented_0_446.jpeg\n",
            "Deleted: 2b453ce6-f97e-4497-b6c0-20dbd50055ce_augmented_0_7509.jpeg\n",
            "Deleted: 8cba5bef-bb20-4b66-96f2-938e44a41aea_augmented_0_7504.jpeg\n",
            "Deleted: 2b453ce6-f97e-4497-b6c0-20dbd50055ce_augmented_0_7846.jpeg\n",
            "Deleted: 8cba5bef-bb20-4b66-96f2-938e44a41aea_augmented_0_7285.jpeg\n",
            "Deleted: f31d5a4a-65be-42ed-89c6-486366d99445_augmented_0_2152.jpeg\n",
            "Deleted: 2b453ce6-f97e-4497-b6c0-20dbd50055ce_augmented_0_8168.jpeg\n",
            "Deleted: 8cba5bef-bb20-4b66-96f2-938e44a41aea_augmented_0_6468.jpeg\n",
            "Deleted: 8cba5bef-bb20-4b66-96f2-938e44a41aea_augmented_0_1213.jpeg\n",
            "Deleted: f31d5a4a-65be-42ed-89c6-486366d99445_augmented_0_4801.jpeg\n",
            "Deleted: 2b453ce6-f97e-4497-b6c0-20dbd50055ce_augmented_0_2567.jpeg\n",
            "Deleted: 2b453ce6-f97e-4497-b6c0-20dbd50055ce_augmented_0_4971.jpeg\n",
            "Deleted: f31d5a4a-65be-42ed-89c6-486366d99445_augmented_0_3647.jpeg\n",
            "Deleted: 8cba5bef-bb20-4b66-96f2-938e44a41aea_augmented_0_2710.jpeg\n",
            "Deleted: 8cba5bef-bb20-4b66-96f2-938e44a41aea_augmented_0_4961.jpeg\n",
            "Deleted: 2b453ce6-f97e-4497-b6c0-20dbd50055ce_augmented_0_5909.jpeg\n",
            "Deleted: f31d5a4a-65be-42ed-89c6-486366d99445_augmented_0_5331.jpeg\n",
            "Deleted: f31d5a4a-65be-42ed-89c6-486366d99445_augmented_0_9972.jpeg\n",
            "Deleted: 2b453ce6-f97e-4497-b6c0-20dbd50055ce_augmented_0_6927.jpeg\n",
            "Deleted: 8cba5bef-bb20-4b66-96f2-938e44a41aea_augmented_0_3380.jpeg\n",
            "Deleted: 8cba5bef-bb20-4b66-96f2-938e44a41aea_augmented_0_6965.jpeg\n",
            "Deleted: 2b453ce6-f97e-4497-b6c0-20dbd50055ce_augmented_0_4293.jpeg\n",
            "Deleted: f31d5a4a-65be-42ed-89c6-486366d99445_augmented_0_6639.jpeg\n",
            "Deleted: f31d5a4a-65be-42ed-89c6-486366d99445_augmented_0_6240.jpeg\n",
            "Deleted: 2b453ce6-f97e-4497-b6c0-20dbd50055ce_augmented_0_6746.jpeg\n",
            "Deleted: 8cba5bef-bb20-4b66-96f2-938e44a41aea_augmented_0_7320.jpeg\n"
          ]
        }
      ]
    }
  ]
}